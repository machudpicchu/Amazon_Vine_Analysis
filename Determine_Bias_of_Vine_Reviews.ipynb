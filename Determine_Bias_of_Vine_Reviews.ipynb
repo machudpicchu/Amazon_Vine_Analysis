{
  "nbformat": 4,
  "nbformat_minor": 0,
  "metadata": {
    "colab": {
      "provenance": []
    },
    "kernelspec": {
      "name": "python3",
      "display_name": "Python 3"
    },
    "language_info": {
      "name": "python"
    }
  },
  "cells": [
    {
      "cell_type": "code",
      "execution_count": 1,
      "metadata": {
        "colab": {
          "base_uri": "https://localhost:8080/"
        },
        "id": "rx1eCNfQkifM",
        "outputId": "a8702f3a-d1c4-496f-efbc-78182b049e68"
      },
      "outputs": [
        {
          "output_type": "stream",
          "name": "stdout",
          "text": [
            "Looking in indexes: https://pypi.org/simple, https://us-python.pkg.dev/colab-wheels/public/simple/\n",
            "Collecting pyspark\n",
            "  Downloading pyspark-3.3.2.tar.gz (281.4 MB)\n",
            "\u001b[2K     \u001b[90m━━━━━━━━━━━━━━━━━━━━━━━━━━━━━━━━━━━━━━━\u001b[0m \u001b[32m281.4/281.4 MB\u001b[0m \u001b[31m4.0 MB/s\u001b[0m eta \u001b[36m0:00:00\u001b[0m\n",
            "\u001b[?25h  Preparing metadata (setup.py) ... \u001b[?25l\u001b[?25hdone\n",
            "Collecting py4j==0.10.9.5\n",
            "  Downloading py4j-0.10.9.5-py2.py3-none-any.whl (199 kB)\n",
            "\u001b[2K     \u001b[90m━━━━━━━━━━━━━━━━━━━━━━━━━━━━━━━━━━━━━━━\u001b[0m \u001b[32m199.7/199.7 KB\u001b[0m \u001b[31m9.2 MB/s\u001b[0m eta \u001b[36m0:00:00\u001b[0m\n",
            "\u001b[?25hBuilding wheels for collected packages: pyspark\n",
            "  Building wheel for pyspark (setup.py) ... \u001b[?25l\u001b[?25hdone\n",
            "  Created wheel for pyspark: filename=pyspark-3.3.2-py2.py3-none-any.whl size=281824028 sha256=fc5b7bc487c861aa71916a18fd082b168fba631e2d41ea8dd624f3397874eb28\n",
            "  Stored in directory: /root/.cache/pip/wheels/6c/e3/9b/0525ce8a69478916513509d43693511463c6468db0de237c86\n",
            "Successfully built pyspark\n",
            "Installing collected packages: py4j, pyspark\n",
            "  Attempting uninstall: py4j\n",
            "    Found existing installation: py4j 0.10.9.7\n",
            "    Uninstalling py4j-0.10.9.7:\n",
            "      Successfully uninstalled py4j-0.10.9.7\n",
            "Successfully installed py4j-0.10.9.5 pyspark-3.3.2\n"
          ]
        }
      ],
      "source": [
        "!pip install pyspark"
      ]
    },
    {
      "cell_type": "code",
      "source": [
        "# Download the Postgres driver that will allow Spark to interact with Postgres.\n",
        "!wget https://jdbc.postgresql.org/download/postgresql-42.2.16.jar"
      ],
      "metadata": {
        "colab": {
          "base_uri": "https://localhost:8080/"
        },
        "id": "xY8wlkEElMVO",
        "outputId": "9f65ad8d-2794-4dae-9390-877d6dfa7688"
      },
      "execution_count": 2,
      "outputs": [
        {
          "output_type": "stream",
          "name": "stdout",
          "text": [
            "--2023-04-02 20:07:35--  https://jdbc.postgresql.org/download/postgresql-42.2.16.jar\n",
            "Resolving jdbc.postgresql.org (jdbc.postgresql.org)... 72.32.157.228, 2001:4800:3e1:1::228\n",
            "Connecting to jdbc.postgresql.org (jdbc.postgresql.org)|72.32.157.228|:443... connected.\n",
            "HTTP request sent, awaiting response... 200 OK\n",
            "Length: 1002883 (979K) [application/java-archive]\n",
            "Saving to: ‘postgresql-42.2.16.jar’\n",
            "\n",
            "postgresql-42.2.16. 100%[===================>] 979.38K  6.30MB/s    in 0.2s    \n",
            "\n",
            "2023-04-02 20:07:35 (6.30 MB/s) - ‘postgresql-42.2.16.jar’ saved [1002883/1002883]\n",
            "\n"
          ]
        }
      ]
    },
    {
      "cell_type": "code",
      "source": [
        "# Import SparkSession\n",
        "from pyspark.sql import SparkSession\n",
        "spark = SparkSession.builder.appName(\"M16-Amazon-Challenge\").config(\"spark.driver.extraClassPath\",\"/content/postgresql-42.2.16.jar\").getOrCreate()"
      ],
      "metadata": {
        "id": "rfRTYRSMlSXi"
      },
      "execution_count": 3,
      "outputs": []
    },
    {
      "cell_type": "code",
      "source": [
        "# Import SparkFiles and create Dataframe of Musical instrument reviews\n",
        "from pyspark import SparkFiles\n",
        "url = \"https://s3.amazonaws.com/amazon-reviews-pds/tsv/amazon_reviews_us_Musical_Instruments_v1_00.tsv.gz\"\n",
        "spark.sparkContext.addFile(url)\n",
        "df = spark.read.option(\"encoding\", \"UTF-8\").csv(SparkFiles.get(\"amazon_reviews_us_Musical_Instruments_v1_00.tsv.gz\"), sep=\"\\t\", header=True, inferSchema=True)\n",
        "df.show(10)"
      ],
      "metadata": {
        "colab": {
          "base_uri": "https://localhost:8080/"
        },
        "id": "mQCFnPqhlhOX",
        "outputId": "4a6d7d80-0c3c-4b8a-cc3e-36e46b2db82c"
      },
      "execution_count": 4,
      "outputs": [
        {
          "output_type": "stream",
          "name": "stdout",
          "text": [
            "+-----------+-----------+--------------+----------+--------------+--------------------+-------------------+-----------+-------------+-----------+----+-----------------+--------------------+--------------------+-------------------+\n",
            "|marketplace|customer_id|     review_id|product_id|product_parent|       product_title|   product_category|star_rating|helpful_votes|total_votes|vine|verified_purchase|     review_headline|         review_body|        review_date|\n",
            "+-----------+-----------+--------------+----------+--------------+--------------------+-------------------+-----------+-------------+-----------+----+-----------------+--------------------+--------------------+-------------------+\n",
            "|         US|   45610553| RMDCHWD0Y5OZ9|B00HH62VB6|     618218723|AGPtek® 10 Isolat...|Musical Instruments|          3|            0|          1|   N|                N|         Three Stars|Works very good, ...|2015-08-31 00:00:00|\n",
            "|         US|   14640079| RZSL0BALIYUNU|B003LRN53I|     986692292|Sennheiser HD203 ...|Musical Instruments|          5|            0|          0|   N|                Y|          Five Stars|Nice headphones a...|2015-08-31 00:00:00|\n",
            "|         US|    6111003| RIZR67JKUDBI0|B0006VMBHI|     603261968|AudioQuest LP rec...|Musical Instruments|          3|            0|          1|   N|                Y|         Three Stars|removes dust. doe...|2015-08-31 00:00:00|\n",
            "|         US|    1546619|R27HL570VNL85F|B002B55TRG|     575084461|Hohner Inc. 560BX...|Musical Instruments|          5|            0|          0|   N|                Y|I purchase these ...|I purchase these ...|2015-08-31 00:00:00|\n",
            "|         US|   12222213|R34EBU9QDWJ1GD|B00N1YPXW2|     165236328|Blue Yeti USB Mic...|Musical Instruments|          5|            0|          0|   N|                Y|          Five Stars|This is an awesom...|2015-08-31 00:00:00|\n",
            "|         US|   46018513|R1WCUI4Z1SIQEO|B001N4GRGS|     134151483|Middle Atlantic P...|Musical Instruments|          5|            0|          0|   N|                N|          Five Stars|Used to cool equi...|2015-08-31 00:00:00|\n",
            "|         US|   10225065| RL5LNO26GAVJ1|B009PJRMHQ|     694166585|Kmise 1pc Pickgua...|Musical Instruments|          2|            3|          4|   N|                Y|Will not Fit Epip...|Note- Does not Fi...|2015-08-31 00:00:00|\n",
            "|         US|    6356995|R3GYQ5W8JHP8SB|B00NKBDAZS|     446431775|Kealoha Concert U...|Musical Instruments|          5|            0|          0|   N|                Y|          Five Stars|Well built Ukulel...|2015-08-31 00:00:00|\n",
            "|         US|   35297198|R30SHYQXGG5EYC|B006MIU7U2|     125871705|Halco 80000 - MR1...|Musical Instruments|          5|            0|          0|   N|                Y|Works fine. Hope ...|Had to replace a ...|2015-08-31 00:00:00|\n",
            "|         US|   32139520|R14YLXA56NP51I|B000FIBD0I|     771888534|Gator GPTBLACK Pl...|Musical Instruments|          5|            1|          1|   N|                N|I upgraded the po...|I've owned multip...|2015-08-31 00:00:00|\n",
            "+-----------+-----------+--------------+----------+--------------+--------------------+-------------------+-----------+-------------+-----------+----+-----------------+--------------------+--------------------+-------------------+\n",
            "only showing top 10 rows\n",
            "\n"
          ]
        }
      ]
    },
    {
      "cell_type": "code",
      "source": [
        "# Filter DataFrames for votes greater than/equal to 20\n",
        "review_df = df.filter(df[\"total_votes\"]>= 20)\n",
        "review_df.show(10)"
      ],
      "metadata": {
        "colab": {
          "base_uri": "https://localhost:8080/"
        },
        "id": "pyNoFoqHmXCn",
        "outputId": "326d1a0e-3c1b-42d2-b505-0f963f157444"
      },
      "execution_count": 5,
      "outputs": [
        {
          "output_type": "stream",
          "name": "stdout",
          "text": [
            "+-----------+-----------+--------------+----------+--------------+--------------------+-------------------+-----------+-------------+-----------+----+-----------------+--------------------+--------------------+-------------------+\n",
            "|marketplace|customer_id|     review_id|product_id|product_parent|       product_title|   product_category|star_rating|helpful_votes|total_votes|vine|verified_purchase|     review_headline|         review_body|        review_date|\n",
            "+-----------+-----------+--------------+----------+--------------+--------------------+-------------------+-----------+-------------+-----------+----+-----------------+--------------------+--------------------+-------------------+\n",
            "|         US|   15365576|R2243Y3OD8U6KQ|B00W1RTVGO|     160618734|Supertech stage l...|Musical Instruments|          5|           47|         61|   N|                N|This fills a room...|I am always looki...|2015-08-31 00:00:00|\n",
            "|         US|   28770559|R2TGT0CDTCAAHW|B00INJ7HBK|     157027184|Singing Machine I...|Musical Instruments|          5|           21|         23|   N|                Y|   excellent product|Kids love it! It'...|2015-08-31 00:00:00|\n",
            "|         US|   35225823| RX4D22YSXEF4P|B009EK8PUY|     166820090|Akai Front Load C...|Musical Instruments|          1|           37|         38|   N|                Y|All the reviews t...|All the reviews t...|2015-08-31 00:00:00|\n",
            "|         US|   24740219|R3FL2NTLFUSPTQ|B014K2S348|     865024902|AKG 2015 NEWEST M...|Musical Instruments|          5|           33|         37|   N|                N|Might need an Amp...|I picked these he...|2015-08-30 00:00:00|\n",
            "|         US|   26124872|R3QTP3YNZXAPPF|B004ISK4E2|     269767230|Fender CD-60 All ...|Musical Instruments|          3|           23|         24|   N|                Y|Couldnt be happie...|Great value. Awes...|2015-08-30 00:00:00|\n",
            "|         US|   16452718|R36V6V42VN5AS5|B00SCP7IB4|     160806469|Numark Mixtrack 3...|Musical Instruments|          5|           34|         37|   N|                Y|let me say that t...|First off, let me...|2015-08-30 00:00:00|\n",
            "|         US|   40567300|R27LZWE27BJPOB|B0142OY3ZM|     201152025|WOWTOU RGB Stage ...|Musical Instruments|          5|           22|         23|   N|                N|    Neat desktop toy|I saw this item a...|2015-08-30 00:00:00|\n",
            "|         US|   52695075|  RMRD6SMF2AUQ|B010W6WFEA|     592936032|Shure MV51 Digita...|Musical Instruments|          3|            4|         21|   N|                N|A bit short of th...|Almost Shure, alm...|2015-08-30 00:00:00|\n",
            "|         US|   11587240| RMPCXKWX3T57Y|B000U0DU34|     875707506|Fulltone OCD Obse...|Musical Instruments|          1|            1|         73|   N|                N|so happy the fina...|Finally I can't w...|2015-08-29 00:00:00|\n",
            "|         US|   49287335|R1P7GJ0IN2BRNH|B005FIFM14|       2563833|Pick Punch - The ...|Musical Instruments|          5|           37|         37|   N|                Y|  super fun and easy|Had it for about ...|2015-08-29 00:00:00|\n",
            "+-----------+-----------+--------------+----------+--------------+--------------------+-------------------+-----------+-------------+-----------+----+-----------------+--------------------+--------------------+-------------------+\n",
            "only showing top 10 rows\n",
            "\n"
          ]
        }
      ]
    },
    {
      "cell_type": "code",
      "source": [
        "# Filter the Review DataFrame to retrieve all the rows where the number of helpful_votes divided by total_votes is equal to or greater than 50%.\n",
        "helpful_votes = review_df.filter(review_df[\"helpful_votes\"]/review_df[\"total_votes\"]>= 0.5)\n",
        "helpful_votes.show(10)"
      ],
      "metadata": {
        "colab": {
          "base_uri": "https://localhost:8080/"
        },
        "id": "QVri-_asm3UD",
        "outputId": "7143608c-1ef5-4074-ea49-a1d4c916939b"
      },
      "execution_count": 6,
      "outputs": [
        {
          "output_type": "stream",
          "name": "stdout",
          "text": [
            "+-----------+-----------+--------------+----------+--------------+--------------------+-------------------+-----------+-------------+-----------+----+-----------------+--------------------+--------------------+-------------------+\n",
            "|marketplace|customer_id|     review_id|product_id|product_parent|       product_title|   product_category|star_rating|helpful_votes|total_votes|vine|verified_purchase|     review_headline|         review_body|        review_date|\n",
            "+-----------+-----------+--------------+----------+--------------+--------------------+-------------------+-----------+-------------+-----------+----+-----------------+--------------------+--------------------+-------------------+\n",
            "|         US|   15365576|R2243Y3OD8U6KQ|B00W1RTVGO|     160618734|Supertech stage l...|Musical Instruments|          5|           47|         61|   N|                N|This fills a room...|I am always looki...|2015-08-31 00:00:00|\n",
            "|         US|   28770559|R2TGT0CDTCAAHW|B00INJ7HBK|     157027184|Singing Machine I...|Musical Instruments|          5|           21|         23|   N|                Y|   excellent product|Kids love it! It'...|2015-08-31 00:00:00|\n",
            "|         US|   35225823| RX4D22YSXEF4P|B009EK8PUY|     166820090|Akai Front Load C...|Musical Instruments|          1|           37|         38|   N|                Y|All the reviews t...|All the reviews t...|2015-08-31 00:00:00|\n",
            "|         US|   24740219|R3FL2NTLFUSPTQ|B014K2S348|     865024902|AKG 2015 NEWEST M...|Musical Instruments|          5|           33|         37|   N|                N|Might need an Amp...|I picked these he...|2015-08-30 00:00:00|\n",
            "|         US|   26124872|R3QTP3YNZXAPPF|B004ISK4E2|     269767230|Fender CD-60 All ...|Musical Instruments|          3|           23|         24|   N|                Y|Couldnt be happie...|Great value. Awes...|2015-08-30 00:00:00|\n",
            "|         US|   16452718|R36V6V42VN5AS5|B00SCP7IB4|     160806469|Numark Mixtrack 3...|Musical Instruments|          5|           34|         37|   N|                Y|let me say that t...|First off, let me...|2015-08-30 00:00:00|\n",
            "|         US|   40567300|R27LZWE27BJPOB|B0142OY3ZM|     201152025|WOWTOU RGB Stage ...|Musical Instruments|          5|           22|         23|   N|                N|    Neat desktop toy|I saw this item a...|2015-08-30 00:00:00|\n",
            "|         US|   49287335|R1P7GJ0IN2BRNH|B005FIFM14|       2563833|Pick Punch - The ...|Musical Instruments|          5|           37|         37|   N|                Y|  super fun and easy|Had it for about ...|2015-08-29 00:00:00|\n",
            "|         US|   50984149|R2R6JPF9KOD2HJ|B008GXEFWC|     162279247|ddrum DD1 Complet...|Musical Instruments|          5|           19|         20|   N|                Y|   Super Drum Kit!!!|Awesome Kit With ...|2015-08-29 00:00:00|\n",
            "|         US|   18517211|R2J0ZZGFXKM8KR|B00MZY6DXM|     498246743|Bakelite Guitar F...|Musical Instruments|          2|           21|         22|   N|                Y|NOT A SET OF NUT ...|NOT A SET OF NUT ...|2015-08-28 00:00:00|\n",
            "+-----------+-----------+--------------+----------+--------------+--------------------+-------------------+-----------+-------------+-----------+----+-----------------+--------------------+--------------------+-------------------+\n",
            "only showing top 10 rows\n",
            "\n"
          ]
        }
      ]
    },
    {
      "cell_type": "code",
      "source": [
        "# Create a new DataFrame that retrieves all the rows where a review was written as part of the Vine program\n",
        "paid_df = helpful_votes.filter(helpful_votes[\"vine\"]==\"Y\")\n",
        "paid_df.show(10)"
      ],
      "metadata": {
        "colab": {
          "base_uri": "https://localhost:8080/"
        },
        "id": "-N2Rv4hUnn2i",
        "outputId": "cf9ec4d4-23c6-430b-800e-a77c5941e739"
      },
      "execution_count": 7,
      "outputs": [
        {
          "output_type": "stream",
          "name": "stdout",
          "text": [
            "+-----------+-----------+--------------+----------+--------------+--------------------+-------------------+-----------+-------------+-----------+----+-----------------+--------------------+--------------------+-------------------+\n",
            "|marketplace|customer_id|     review_id|product_id|product_parent|       product_title|   product_category|star_rating|helpful_votes|total_votes|vine|verified_purchase|     review_headline|         review_body|        review_date|\n",
            "+-----------+-----------+--------------+----------+--------------+--------------------+-------------------+-----------+-------------+-----------+----+-----------------+--------------------+--------------------+-------------------+\n",
            "|         US|   42689422|R1R9RU7JW0MFR2|B0124Y99PQ|     618027384|Casio CGP-700BK C...|Musical Instruments|          4|           20|         23|   Y|                N|Be prepared to be...|First off PLEASE ...|2015-08-27 00:00:00|\n",
            "|         US|   29182364|R19EFYNN3W8Q07|B00ZU4G0ZK|     499223759|TC Electronic Pol...|Musical Instruments|          5|           26|         32|   Y|                N|         Great Tuner|I’ve been using a...|2015-08-22 00:00:00|\n",
            "|         US|   19467797|R34DJ1R8AEU0SG|B00V66XWTI|     758752724|Audio-Technica AT...|Musical Instruments|          5|           29|         35|   Y|                N|Great mic, phenom...|[[VIDEOID:282d682...|2015-07-28 00:00:00|\n",
            "|         US|   52081784|R25P5CXK5L9RHF|B0100RBPTC|     139750877|Casio Privia PX16...|Musical Instruments|          5|          146|        161|   Y|                N|Review: Casio Pri...|[[VIDEOID:7885869...|2015-07-23 00:00:00|\n",
            "|         US|   17421494|R2E9VZB3I4LSN5|B0100RBPTC|     139750877|Casio Privia PX16...|Musical Instruments|          5|           55|         59|   Y|                N|The sound is magn...|The Casio Privia ...|2015-07-13 00:00:00|\n",
            "|         US|   50273418| RKYLHZL7EPELX|B00V66XWTI|     758752724|Audio-Technica AT...|Musical Instruments|          4|           19|         25|   Y|                N|Quality sound acc...|[[VIDEOID:2e41e07...|2015-06-17 00:00:00|\n",
            "|         US|   50027179|R1U13EKGQD3ZE6|B00MIXFBL0|     363629101|TASCAM DR-60DmkII...|Musical Instruments|          5|           22|         25|   Y|                N|            Powerful|[[VIDEOID:50615d5...|2015-03-08 00:00:00|\n",
            "|         US|   50258811| RYW05F1MUEF01|B00NW1IZ5Q|     923510791|Doppler Labs Dubs...|Musical Instruments|          5|           87|        102|   Y|                N|High Fidelity Ear...|I tested these ea...|2015-02-25 00:00:00|\n",
            "|         US|   28322689|R2SW4NXNO7HZJ5|B00MIXFBKG|      21180708|      Tascam DR-22WL|Musical Instruments|          4|           28|         33|   Y|                N|Excellent portabl...|The DR-22WL (2-ch...|2015-01-27 00:00:00|\n",
            "|         US|   52880152|R2016NFLSUR97Y|B00MIXFBKG|      21180708|      Tascam DR-22WL|Musical Instruments|          2|           26|         37|   Y|                N|Wi-Fi Recorder wi...|When it came to t...|2015-01-18 00:00:00|\n",
            "+-----------+-----------+--------------+----------+--------------+--------------------+-------------------+-----------+-------------+-----------+----+-----------------+--------------------+--------------------+-------------------+\n",
            "only showing top 10 rows\n",
            "\n"
          ]
        }
      ]
    },
    {
      "cell_type": "code",
      "source": [
        "# Retrieve all the rows where the review was not part of the Vine program (unpaid)\n",
        "unpaid_df = helpful_votes.filter(helpful_votes[\"vine\"]==\"N\")\n",
        "unpaid_df.show(10)"
      ],
      "metadata": {
        "colab": {
          "base_uri": "https://localhost:8080/"
        },
        "id": "KdPR4pxfn7Bz",
        "outputId": "e5079c04-7f94-41cb-9d83-edc87d2c9f4d"
      },
      "execution_count": 9,
      "outputs": [
        {
          "output_type": "stream",
          "name": "stdout",
          "text": [
            "+-----------+-----------+--------------+----------+--------------+--------------------+-------------------+-----------+-------------+-----------+----+-----------------+--------------------+--------------------+-------------------+\n",
            "|marketplace|customer_id|     review_id|product_id|product_parent|       product_title|   product_category|star_rating|helpful_votes|total_votes|vine|verified_purchase|     review_headline|         review_body|        review_date|\n",
            "+-----------+-----------+--------------+----------+--------------+--------------------+-------------------+-----------+-------------+-----------+----+-----------------+--------------------+--------------------+-------------------+\n",
            "|         US|   15365576|R2243Y3OD8U6KQ|B00W1RTVGO|     160618734|Supertech stage l...|Musical Instruments|          5|           47|         61|   N|                N|This fills a room...|I am always looki...|2015-08-31 00:00:00|\n",
            "|         US|   28770559|R2TGT0CDTCAAHW|B00INJ7HBK|     157027184|Singing Machine I...|Musical Instruments|          5|           21|         23|   N|                Y|   excellent product|Kids love it! It'...|2015-08-31 00:00:00|\n",
            "|         US|   35225823| RX4D22YSXEF4P|B009EK8PUY|     166820090|Akai Front Load C...|Musical Instruments|          1|           37|         38|   N|                Y|All the reviews t...|All the reviews t...|2015-08-31 00:00:00|\n",
            "|         US|   24740219|R3FL2NTLFUSPTQ|B014K2S348|     865024902|AKG 2015 NEWEST M...|Musical Instruments|          5|           33|         37|   N|                N|Might need an Amp...|I picked these he...|2015-08-30 00:00:00|\n",
            "|         US|   26124872|R3QTP3YNZXAPPF|B004ISK4E2|     269767230|Fender CD-60 All ...|Musical Instruments|          3|           23|         24|   N|                Y|Couldnt be happie...|Great value. Awes...|2015-08-30 00:00:00|\n",
            "|         US|   16452718|R36V6V42VN5AS5|B00SCP7IB4|     160806469|Numark Mixtrack 3...|Musical Instruments|          5|           34|         37|   N|                Y|let me say that t...|First off, let me...|2015-08-30 00:00:00|\n",
            "|         US|   40567300|R27LZWE27BJPOB|B0142OY3ZM|     201152025|WOWTOU RGB Stage ...|Musical Instruments|          5|           22|         23|   N|                N|    Neat desktop toy|I saw this item a...|2015-08-30 00:00:00|\n",
            "|         US|   49287335|R1P7GJ0IN2BRNH|B005FIFM14|       2563833|Pick Punch - The ...|Musical Instruments|          5|           37|         37|   N|                Y|  super fun and easy|Had it for about ...|2015-08-29 00:00:00|\n",
            "|         US|   50984149|R2R6JPF9KOD2HJ|B008GXEFWC|     162279247|ddrum DD1 Complet...|Musical Instruments|          5|           19|         20|   N|                Y|   Super Drum Kit!!!|Awesome Kit With ...|2015-08-29 00:00:00|\n",
            "|         US|   18517211|R2J0ZZGFXKM8KR|B00MZY6DXM|     498246743|Bakelite Guitar F...|Musical Instruments|          2|           21|         22|   N|                Y|NOT A SET OF NUT ...|NOT A SET OF NUT ...|2015-08-28 00:00:00|\n",
            "+-----------+-----------+--------------+----------+--------------+--------------------+-------------------+-----------+-------------+-----------+----+-----------------+--------------------+--------------------+-------------------+\n",
            "only showing top 10 rows\n",
            "\n"
          ]
        }
      ]
    },
    {
      "cell_type": "code",
      "source": [
        "# Determine the total number of reviews, the number of 5-star reviews, and the percentage of 5-star reviews for PAID reviews.\n",
        "paid_df.describe().show()"
      ],
      "metadata": {
        "colab": {
          "base_uri": "https://localhost:8080/"
        },
        "id": "8Rf3xsNIpHcj",
        "outputId": "1ae06ae6-0ca4-4ec7-b52d-46487c152fb3"
      },
      "execution_count": 10,
      "outputs": [
        {
          "output_type": "stream",
          "name": "stdout",
          "text": [
            "+-------+-----------+--------------------+--------------+----------+--------------------+--------------------+-------------------+------------------+------------------+-----------------+----+-----------------+--------------------+--------------------+\n",
            "|summary|marketplace|         customer_id|     review_id|product_id|      product_parent|       product_title|   product_category|       star_rating|     helpful_votes|      total_votes|vine|verified_purchase|     review_headline|         review_body|\n",
            "+-------+-----------+--------------------+--------------+----------+--------------------+--------------------+-------------------+------------------+------------------+-----------------+----+-----------------+--------------------+--------------------+\n",
            "|  count|         60|                  60|            60|        60|                  60|                  60|                 60|                60|                60|               60|  60|               60|                  60|                  60|\n",
            "|   mean|       null|4.3379743516666666E7|          null|      null|      5.4389104205E8|                null|               null| 4.383333333333334| 40.21666666666667|             45.9|null|             null|                null|                null|\n",
            "| stddev|       null|1.1159916689989267E7|          null|      null|3.2205982643318737E8|                null|               null|0.8044719642367519|26.964566621908546|29.41215014702574|null|             null|                null|                null|\n",
            "|    min|         US|            13571334|R113X83B4OZYF8|B000S8CX7M|            20552820|Alesis DM7X Sessi...|Musical Instruments|                 2|                14|               20|   Y|                N|5 Star for What I...|&#34;Mikey&#34; h...|\n",
            "|    max|         US|            53080186| RYW05F1MUEF01|B0124Y99PQ|           985497682|Yamaha PSRE443 61...|Musical Instruments|                 5|               146|              161|   Y|                N|You get what you ...|[[VIDEOID:mo3MWFO...|\n",
            "+-------+-----------+--------------------+--------------+----------+--------------------+--------------------+-------------------+------------------+------------------+-----------------+----+-----------------+--------------------+--------------------+\n",
            "\n"
          ]
        }
      ]
    },
    {
      "cell_type": "code",
      "source": [
        "# Determine the total number of reviews, the number of 5-star reviews, and the percentage of 5-star reviews for UNPAID reviews.\n",
        "unpaid_df.describe().show()"
      ],
      "metadata": {
        "colab": {
          "base_uri": "https://localhost:8080/"
        },
        "id": "tACNZo8Qp-ft",
        "outputId": "8983a9d1-0da7-4355-b158-d25b217aa87e"
      },
      "execution_count": 11,
      "outputs": [
        {
          "output_type": "stream",
          "name": "stdout",
          "text": [
            "+-------+-----------+-------------------+-------------+--------------------+-------------------+--------------------+-------------------+------------------+-----------------+-----------------+-----+-----------------+--------------------+--------------------+\n",
            "|summary|marketplace|        customer_id|    review_id|          product_id|     product_parent|       product_title|   product_category|       star_rating|    helpful_votes|      total_votes| vine|verified_purchase|     review_headline|         review_body|\n",
            "+-------+-----------+-------------------+-------------+--------------------+-------------------+--------------------+-------------------+------------------+-----------------+-----------------+-----+-----------------+--------------------+--------------------+\n",
            "|  count|      14477|              14477|        14477|               14477|              14477|               14477|              14477|             14477|            14477|            14477|14477|            14477|               14477|               14474|\n",
            "|   mean|       null| 3.24235885494923E7|         null|       2.270817183E9|4.982364867599641E8|                null|               null| 4.056365269047455|47.50183048974235|51.79560682461836| null|             null|                null|                null|\n",
            "| stddev|       null|1.491024347385418E7|         null|2.9508484322288833E9|2.875101396226795E8|                null|               null|1.3469133590849638|90.68383751472832|94.14444970856209| null|             null|                null|                null|\n",
            "|    min|         US|              46065|R101479YHVWJ7|          0739086731|             134400|\"Cheffort\" 12 Hol...|Musical Instruments|                 1|               10|               20|    N|                N|    A Ten Star Smile|!! ! Warning ! !!...|\n",
            "|    max|         US|           53096561|RZZU4EG8610O6|          B014K2S348|          999430634|{Upgrade 8 LED} T...|Musical Instruments|                 5|             4709|             4805|    N|                Y|😳Good bye darkne...|•Fact: It's one o...|\n",
            "+-------+-----------+-------------------+-------------+--------------------+-------------------+--------------------+-------------------+------------------+-----------------+-----------------+-----+-----------------+--------------------+--------------------+\n",
            "\n"
          ]
        }
      ]
    },
    {
      "cell_type": "code",
      "source": [
        "# Calculate total number of paid reviews.\n",
        "paid_number = paid_df.count()\n",
        "print(paid_number)"
      ],
      "metadata": {
        "colab": {
          "base_uri": "https://localhost:8080/"
        },
        "id": "4yNhSrEc1yy3",
        "outputId": "fdb85218-1cba-4562-e524-9b95e8c552ca"
      },
      "execution_count": 14,
      "outputs": [
        {
          "output_type": "stream",
          "name": "stdout",
          "text": [
            "60\n"
          ]
        }
      ]
    },
    {
      "cell_type": "code",
      "source": [
        "# Calculate total number of paid 5-star reviews.\n",
        "paid_fivestar_number = paid_df[paid_df[\"star_rating\"]==5].count()\n",
        "print(paid_fivestar_number)"
      ],
      "metadata": {
        "colab": {
          "base_uri": "https://localhost:8080/"
        },
        "id": "TAHuJXU12RZa",
        "outputId": "e416e38c-c375-4746-deca-1b145737b344"
      },
      "execution_count": 15,
      "outputs": [
        {
          "output_type": "stream",
          "name": "stdout",
          "text": [
            "34\n"
          ]
        }
      ]
    },
    {
      "cell_type": "code",
      "source": [
        "# Calculate the percentage of 5-star reviews that are paid.\n",
        "paid_fivestar_percentage = paid_fivestar_number/paid_number\n",
        "print(paid_fivestar_percentage)"
      ],
      "metadata": {
        "colab": {
          "base_uri": "https://localhost:8080/"
        },
        "id": "TWacC4mw2c5A",
        "outputId": "3cbeb861-acc4-44c0-ce84-460f66b92fe3"
      },
      "execution_count": 16,
      "outputs": [
        {
          "output_type": "stream",
          "name": "stdout",
          "text": [
            "0.5666666666666667\n"
          ]
        }
      ]
    },
    {
      "cell_type": "code",
      "source": [
        "# Calculate total number of unpaid reviews.\n",
        "unpaid_number = unpaid_df.count()\n",
        "print(unpaid_number)"
      ],
      "metadata": {
        "colab": {
          "base_uri": "https://localhost:8080/"
        },
        "id": "zieY-OCR22La",
        "outputId": "c707f3ae-6254-4ae2-d9ef-6228772db60f"
      },
      "execution_count": 17,
      "outputs": [
        {
          "output_type": "stream",
          "name": "stdout",
          "text": [
            "14477\n"
          ]
        }
      ]
    },
    {
      "cell_type": "code",
      "source": [
        "# Calculate total number of unpaid 5-star reviews.\n",
        "unpaid_fivestar_number = unpaid_df[paid_df[\"star_rating\"]==5].count()\n",
        "print(unpaid_fivestar_number)"
      ],
      "metadata": {
        "colab": {
          "base_uri": "https://localhost:8080/"
        },
        "id": "F22YQzAF22iQ",
        "outputId": "86dee013-c84a-45f5-e5db-0a45b9cbc3b7"
      },
      "execution_count": 18,
      "outputs": [
        {
          "output_type": "stream",
          "name": "stdout",
          "text": [
            "8212\n"
          ]
        }
      ]
    },
    {
      "cell_type": "code",
      "source": [
        "# Calculate the percentage of 5-star reviews that are unpaid.\n",
        "unpaid_fivestar_percentage = unpaid_fivestar_number/unpaid_number\n",
        "print(unpaid_fivestar_percentage)"
      ],
      "metadata": {
        "colab": {
          "base_uri": "https://localhost:8080/"
        },
        "id": "7yJGpTcM26iw",
        "outputId": "4cdbb3fa-e903-472f-f05a-f5e8061a8732"
      },
      "execution_count": 19,
      "outputs": [
        {
          "output_type": "stream",
          "name": "stdout",
          "text": [
            "0.5672445948746287\n"
          ]
        }
      ]
    }
  ]
}